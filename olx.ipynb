{
  "nbformat": 4,
  "nbformat_minor": 0,
  "metadata": {
    "colab": {
      "name": "olx",
      "provenance": [],
      "authorship_tag": "ABX9TyMXHuMKHf40vvH1sdynW7Q5",
      "include_colab_link": true
    },
    "kernelspec": {
      "name": "python3",
      "display_name": "Python 3"
    }
  },
  "cells": [
    {
      "cell_type": "markdown",
      "metadata": {
        "id": "view-in-github",
        "colab_type": "text"
      },
      "source": [
        "<a href=\"https://colab.research.google.com/github/wasdestructor/washi/blob/master/olx.ipynb\" target=\"_parent\"><img src=\"https://colab.research.google.com/assets/colab-badge.svg\" alt=\"Open In Colab\"/></a>"
      ]
    },
    {
      "cell_type": "code",
      "metadata": {
        "id": "umq-PtZdoDiH"
      },
      "source": [
        "from bs4 import BeautifulSoup\r\n",
        "import requests\r\n",
        "import pandas as pd\r\n",
        "from random import randrange, uniform\r\n",
        "\r\n",
        "# Listas de dados a serem extraidos\r\n",
        "titulos_list = []\r\n",
        "details_list = []\r\n",
        "endereco_list = []\r\n",
        "categoria_list = []\r\n",
        "precos_list = []\r\n",
        "\r\n",
        "for p in range(1, 100):\r\n",
        "  url = 'https://rn.olx.com.br/rio-grande-do-norte/natal/imoveis/venda/apartamentos?o='+str(p)\r\n",
        "\r\n",
        "  # Requisição GET\r\n",
        "  data = requests.get(url)\r\n",
        "\r\n",
        "  # Testando objeto Response\r\n",
        "  if data.status_code == 200:\r\n",
        "    print('Requisição bem sucedida!')\r\n",
        "\r\n",
        "  # Criação de objeto para salvar documento html\r\n",
        "  soup = BeautifulSoup(data.text, 'html.parser')\r\n",
        " \r\n",
        "  # Utilizando o método find_all para acessar o objeto \r\n",
        "  anuncios = soup.find_all(class_=\"OLXad-list-link\")\r\n",
        "\r\n",
        "  for value in anuncios[0:]:\r\n",
        "    # 1. Título do anúncio;\r\n",
        "    titulo = value.find(class_=\"OLXad-list-title\")\r\n",
        "    x = titulo.text\r\n",
        "    x = x.replace('\\t', '')\r\n",
        "    x = x.replace('\\n', '') \r\n",
        "    titulos_list.append(x)\r\n",
        "\r\n",
        "    # 2. Detalhes;\r\n",
        "    details = value.find(class_=\"text detail-specific\")\r\n",
        "    x = details.text\r\n",
        "    x = x.replace('\\t', '')\r\n",
        "    x = x.replace('\\n', '') \r\n",
        "    details_list.append(x)\r\n",
        " \r\n",
        "    # 3. Endereço;\r\n",
        "    endereco = value.find(class_=\"text detail-region\")\r\n",
        "    x = endereco.text\r\n",
        "    x = x.replace('\\t', '')\r\n",
        "    x = x.replace('\\n', '') \r\n",
        "    endereco_list.append(x)\r\n",
        "\r\n",
        "    # 4. Categoria;\r\n",
        "    categoria = value.find(class_=\"text detail-category\")\r\n",
        "    x = categoria.text\r\n",
        "    x = x.replace('\\t', '')\r\n",
        "    x = x.replace('\\n', '') \r\n",
        "    categoria_list.append(x)\r\n",
        "\r\n",
        "    # 5. Preço do apartamento (valor de venda).\r\n",
        "    preco = value.find(class_=\"OLXad-list-price\")\r\n",
        "    try:\r\n",
        "      x = preco.text\r\n",
        "      x = x.replace('\\t', '')\r\n",
        "      x = x.replace('\\n', '') \r\n",
        "      precos_list.append(x.split()[1])\r\n",
        "    except:\r\n",
        "      precos_list.append('0')\r\n",
        " \r\n",
        "# Carregando os dados em um Data Frame\r\n",
        "df = pd.DataFrame({\r\n",
        "  'Titulo': titulos_list,\r\n",
        "  'Detalhes': details_list,\r\n",
        "  'Endereço': endereco_list,\r\n",
        "  'Categoria': categoria_list,\r\n",
        "  'Preco': precos_list\r\n",
        "})\r\n",
        "\r\n",
        "# salvando planilha para excel\r\n",
        "df.to_excel('Apts.xlsx', encoding='utf-8', index=False)\r\n",
        "\r\n",
        "# salvando planilha para csv\r\n",
        "df.to_csv('Apts.csv', encoding='utf-8', index=False)\r\n"
      ],
      "execution_count": 5,
      "outputs": []
    }
  ]
}